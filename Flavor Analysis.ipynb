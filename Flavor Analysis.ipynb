{
 "cells": [
  {
   "cell_type": "code",
   "execution_count": null,
   "metadata": {},
   "outputs": [],
   "source": [
    "import pandas as pd\n",
    "import numpy as np\n",
    "import matplotlib.pyplot as plt\n",
    "import seaborn as sns\n",
    "%matplotlib inline"
   ]
  },
  {
   "cell_type": "code",
   "execution_count": null,
   "metadata": {},
   "outputs": [],
   "source": [
    "# Import Data\n",
    "data = pd.read_excel('Final Flavor Data.xlsx', sheet_name='Data')"
   ]
  },
  {
   "cell_type": "code",
   "execution_count": null,
   "metadata": {
    "scrolled": true
   },
   "outputs": [],
   "source": [
    "# Head of Data\n",
    "#data.head()"
   ]
  },
  {
   "cell_type": "code",
   "execution_count": null,
   "metadata": {},
   "outputs": [],
   "source": [
    "# Calculate variance for subsetting Data\n",
    "from statistics import variance\n",
    "\n",
    "for col in data.columns[4:]:\n",
    "    print(\"Variance of %s = %s\"%(col, variance(data[col].dropna())))"
   ]
  },
  {
   "cell_type": "code",
   "execution_count": null,
   "metadata": {},
   "outputs": [],
   "source": [
    "# Descriptive statistics of columns 5 through 12\n",
    "data[list(data.columns[4:17])].dropna().describe()"
   ]
  },
  {
   "cell_type": "code",
   "execution_count": null,
   "metadata": {
    "scrolled": true
   },
   "outputs": [],
   "source": [
    "# Columns 13 through 17\n",
    "#sns.pairplot(data[list(data.columns[4:17])].dropna())"
   ]
  },
  {
   "cell_type": "code",
   "execution_count": null,
   "metadata": {},
   "outputs": [],
   "source": [
    "# Data columns for subsetting - Columns 1 through 17 dropping Astringent\n",
    "data.columns"
   ]
  },
  {
   "cell_type": "code",
   "execution_count": null,
   "metadata": {},
   "outputs": [],
   "source": [
    "# Subset of Data\n",
    "data_sub = data[['GIN', 'NC_Accession', 'Seed Source', 'Rep', 'mean_oil', 'raw_mc_ww',\n",
    "       'roast_color', 'paste_color', 'dark_roast', 'raw_bean', 'roast_peanut',\n",
    "       'sweet_aromatic', 'sweet', 'bitter', 'wood_hulls_skins','cardboard']].dropna()"
   ]
  },
  {
   "cell_type": "code",
   "execution_count": null,
   "metadata": {
    "scrolled": true
   },
   "outputs": [],
   "source": [
    "# Pairplot for subset of Data\n",
    "#sns.pairplot(data_sub[list(data_sub.columns[4:])])"
   ]
  },
  {
   "cell_type": "code",
   "execution_count": null,
   "metadata": {},
   "outputs": [],
   "source": [
    "# Checks?\n",
    "Cultivars = ['Bailey','Bailey II','Emery','Sullivan','Wynne','Georgia 06-G' ]"
   ]
  },
  {
   "cell_type": "code",
   "execution_count": null,
   "metadata": {},
   "outputs": [],
   "source": [
    "data_sub['Check'] = data_sub['NC_Accession'].apply(lambda x: 'Yes' if x in Cultivars else 'No')"
   ]
  },
  {
   "cell_type": "code",
   "execution_count": null,
   "metadata": {},
   "outputs": [],
   "source": [
    "# Creates new columsn for 2 - 10 clusters to view in interactive plots\n",
    "from sklearn.cluster import KMeans\n",
    "from sklearn.preprocessing import StandardScaler\n",
    "from sklearn.decomposition import PCA\n",
    "\n",
    "#Control Panel\n",
    "clus_total = 10\n",
    "pca_comp = 5\n",
    "\n",
    "for i in range(2,(clus_total+1)):\n",
    "    kmeans = KMeans(n_clusters=i)\n",
    "    kmeans.fit(data_sub.iloc[:,4:16])\n",
    "    \n",
    "    data_sub['Clusters_%s'%(i)] = kmeans.labels_\n",
    "    \n",
    "scaler = StandardScaler()\n",
    "scaler.fit(data_sub.iloc[:,4:16])\n",
    "scaled_data = scaler.transform(data_sub.iloc[:,4:16])\n",
    "\n",
    "pca = PCA(n_components=pca_comp)\n",
    "pca.fit(scaled_data)\n",
    "x_pca = pca.transform(scaled_data)\n",
    "\n",
    "for i in range(0,pca_comp):\n",
    "    data_sub['PCA%s'%(i+1)] = x_pca[:,i]"
   ]
  },
  {
   "cell_type": "code",
   "execution_count": null,
   "metadata": {},
   "outputs": [],
   "source": [
    "# Interactive Plots to Visualice Clusters - Use the Control Panel to See the number of clusters, pca_init and pca_post data\n",
    "import plotly.express as px\n",
    "# Control Panel\n",
    "\n",
    "# Select number of clusters (2-10)\n",
    "Clusters = 3\n",
    "# Select PCA component (1-5)\n",
    "PCA_init = 'PCA1'\n",
    "# Select PCA component (1-5)\n",
    "PCA_post = 'PCA2'\n",
    "\n",
    "# Create a new data column, 'Cultivars' and 'Cluster i' where i is the number of clusters defined in Clusters\n",
    "def new_char(cols):\n",
    "    Check = cols[0]\n",
    "    Cluster = cols[1]\n",
    "    \n",
    "    if Check == 'Yes':\n",
    "        return 'Cultivar'\n",
    "    \n",
    "    else:\n",
    "        for i in range(0,Clusters):\n",
    "            if Cluster == i:\n",
    "                return 'Cluster %s'%(i+1)\n",
    "\n",
    "# Set the new column to color for dispaying the colors below\n",
    "Color = data_sub[['Check','Clusters_%s'%(Clusters)]].apply(new_char, axis=1)\n",
    "# Plot using plotly.express\n",
    "fig = px.scatter(data_sub, x=\"%s\"%(PCA_init), y=\"%s\"%(PCA_post), opacity=0.7, color=Color ,hover_data=['NC_Accession'], template='plotly_white')\n",
    "# Change the marker sizes and attributes\n",
    "fig.update_traces(marker=dict(size=15, line=dict(width=2, color='DarkSlateGrey')), selector=dict(mode='markers'))\n",
    "# Display the figure\n",
    "fig.show()\n",
    "\n",
    "#Culitvar = Bailey, Georgia 06-G"
   ]
  }
 ],
 "metadata": {
  "kernelspec": {
   "display_name": "Python 3",
   "language": "python",
   "name": "python3"
  },
  "language_info": {
   "codemirror_mode": {
    "name": "ipython",
    "version": 3
   },
   "file_extension": ".py",
   "mimetype": "text/x-python",
   "name": "python",
   "nbconvert_exporter": "python",
   "pygments_lexer": "ipython3",
   "version": "3.7.3"
  }
 },
 "nbformat": 4,
 "nbformat_minor": 2
}
