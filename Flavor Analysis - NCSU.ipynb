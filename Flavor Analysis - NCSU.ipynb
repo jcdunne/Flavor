{
 "cells": [
  {
   "cell_type": "markdown",
   "metadata": {},
   "source": [
    "![](Logo.png)"
   ]
  },
  {
   "cell_type": "markdown",
   "metadata": {},
   "source": [
    "# <font color='red'>Sensory Quality and Composition of NCSU Peanut Germplasm </font>\n",
    "\n",
    "> ## Correlation Among Attributes\n",
    "> ## Clustering Based on Attributes\n",
    "> ## Cluster Mean Separation\n",
    "> ## Germplasm Selection"
   ]
  },
  {
   "cell_type": "code",
   "execution_count": null,
   "metadata": {},
   "outputs": [],
   "source": [
    "# Import Libraries\n",
    "import pandas as pd\n",
    "import numpy as np\n",
    "import matplotlib.pyplot as plt\n",
    "import seaborn as sns\n",
    "%matplotlib inline"
   ]
  },
  {
   "cell_type": "code",
   "execution_count": null,
   "metadata": {},
   "outputs": [],
   "source": [
    "# Import Data\n",
    "data = pd.read_excel('Flavor Data - NCSU.xlsx', sheet_name='Data')"
   ]
  },
  {
   "cell_type": "code",
   "execution_count": null,
   "metadata": {
    "scrolled": false
   },
   "outputs": [],
   "source": [
    "# Head of Data\n",
    "data.head()"
   ]
  },
  {
   "cell_type": "code",
   "execution_count": null,
   "metadata": {},
   "outputs": [],
   "source": [
    "# Calculate variance for subsetting Data\n",
    "from statistics import variance\n",
    "\n",
    "for col in data.columns[6:]:\n",
    "    print(\"Variance of %s = %s\"%(col, variance(data[col].dropna())))"
   ]
  },
  {
   "cell_type": "code",
   "execution_count": null,
   "metadata": {},
   "outputs": [],
   "source": [
    "# Descriptive statistics of columns 5 through 17\n",
    "data[list(data.columns[6:18])].dropna().describe()"
   ]
  },
  {
   "cell_type": "code",
   "execution_count": null,
   "metadata": {
    "scrolled": true
   },
   "outputs": [],
   "source": [
    "# Columns 5 through 17\n",
    "#sns.pairplot(data[list(data.columns[6:18])].dropna())"
   ]
  },
  {
   "cell_type": "code",
   "execution_count": null,
   "metadata": {},
   "outputs": [],
   "source": [
    "# Data columns for subsetting - Columns 1 through 17 dropping Astringent\n",
    "data.columns"
   ]
  },
  {
   "cell_type": "code",
   "execution_count": null,
   "metadata": {},
   "outputs": [],
   "source": [
    "data.head()"
   ]
  },
  {
   "cell_type": "code",
   "execution_count": null,
   "metadata": {},
   "outputs": [],
   "source": [
    "# Subset of Data\n",
    "data_sub = data[['GIN', 'NC_Accession', 'Seed Source', 'Rep', 'mean_oil', 'raw_mc_ww',\n",
    "       'roast_color', 'paste_color', 'dark_roast', 'raw_bean', 'roast_peanut',\n",
    "       'sweet_aromatic', 'sweet', 'bitter', 'wood_hulls_skins','cardboard']].dropna()"
   ]
  },
  {
   "cell_type": "code",
   "execution_count": null,
   "metadata": {
    "scrolled": true
   },
   "outputs": [],
   "source": [
    "# Pairplot for subset of Data\n",
    "#sns.pairplot(data_sub[list(data_sub.columns[5:])])"
   ]
  },
  {
   "cell_type": "code",
   "execution_count": null,
   "metadata": {},
   "outputs": [],
   "source": [
    "# Checks?\n",
    "Cultivars = ['Bailey','Bailey II','Emery','Sullivan','Wynne','Georgia 06-G','Bailey-UPPT','Georgia 06-G-UPPT']"
   ]
  },
  {
   "cell_type": "code",
   "execution_count": null,
   "metadata": {},
   "outputs": [],
   "source": [
    "data_test = data_sub.groupby(['GIN','NC_Accession'], as_index=False)['mean_oil', 'raw_mc_ww',\n",
    "       'roast_color', 'paste_color', 'dark_roast', 'raw_bean', 'roast_peanut',\n",
    "       'sweet_aromatic', 'sweet', 'bitter','cardboard'].mean()"
   ]
  },
  {
   "cell_type": "code",
   "execution_count": null,
   "metadata": {},
   "outputs": [],
   "source": [
    "data_test"
   ]
  },
  {
   "cell_type": "code",
   "execution_count": null,
   "metadata": {},
   "outputs": [],
   "source": [
    "data_test['Check'] = data_test['NC_Accession'].apply(lambda x: 'Yes' if x in Cultivars else 'No')"
   ]
  },
  {
   "cell_type": "code",
   "execution_count": null,
   "metadata": {},
   "outputs": [],
   "source": [
    "# Produce Correlation Plots - Dimension Reduction Justification\n",
    "corr = data_test.corr()\n",
    "\n",
    "corr = corr.iloc[0:11,0:11]\n",
    "\n",
    "corr.rename(columns={'mean_oil':'Mean Oil Content','raw_mc_ww':'Raw Moisture Content','roast_color':'Roast Color','paste_color':'Paste Color','dark_roast':'Dark Roast','raw_bean':'Raw Bean','roast_peanut':'Roast Peanut','sweet_aromatic':'Sweet Aromatic','sweet':'Sweetness','bitter':'Bitterness','cardboard':'Cardboard'},\n",
    "            index={'mean_oil':'Mean Oil Content','raw_mc_ww':'Raw Moisture Content','roast_color':'Roast Color','paste_color':'Paste Color','dark_roast':'Dark Roast','raw_bean':'Raw Bean','roast_peanut':'Roast Peanut','sweet_aromatic':'Sweet Aromatic','sweet':'Sweetness','bitter':'Bitterness','cardboard':'Cardboard'}, inplace=True)\n",
    "\n",
    "#corr.head()\n",
    "\n",
    "# Generate a Mask for the Upper Triangle\n",
    "mask = np.zeros_like(corr, dtype=np.bool)\n",
    "mask[np.triu_indices_from(mask)] = True\n",
    "\n",
    "# Set Up the Matplotlib Figure\n",
    "f, ax = plt.subplots(figsize=(11, 9))\n",
    "\n",
    "# Generate a Custom Diverging Colormap\n",
    "cmap = sns.diverging_palette(220, 10, as_cmap=True)\n",
    "\n",
    "# Draw the Heatmap with the Mask and Correct Aspect Ratio\n",
    "sns.heatmap(corr, mask=mask, cmap=cmap, vmax=.3, center=0,\n",
    "            square=True, linewidths=.5, cbar_kws={\"shrink\": .5})"
   ]
  },
  {
   "cell_type": "code",
   "execution_count": null,
   "metadata": {},
   "outputs": [],
   "source": [
    "# Creates New Columns for 2 - 10 Clusters to View in Interactive Plots\n",
    "from sklearn.cluster import KMeans\n",
    "from sklearn.preprocessing import StandardScaler\n",
    "from sklearn.decomposition import PCA\n",
    "\n",
    "#Control Panel\n",
    "clus_total = 10\n",
    "pca_comp = 5\n",
    "\n",
    "for i in range(2,(clus_total+1)):\n",
    "    kmeans = KMeans(n_clusters=i)\n",
    "    kmeans.fit(data_test.iloc[:,2:13])\n",
    "    \n",
    "    data_test['Clusters_%s'%(i)] = kmeans.labels_\n",
    "    \n",
    "scaler = StandardScaler()\n",
    "scaler.fit(data_test.iloc[:,2:13])\n",
    "scaled_data = scaler.transform(data_test.iloc[:,2:13])\n",
    "\n",
    "pca = PCA(n_components=pca_comp)\n",
    "pca.fit(scaled_data)\n",
    "x_pca = pca.transform(scaled_data)\n",
    "\n",
    "for i in range(0,pca_comp):\n",
    "    data_test['PCA%s'%(i+1)] = x_pca[:,i]"
   ]
  },
  {
   "cell_type": "code",
   "execution_count": null,
   "metadata": {
    "scrolled": false
   },
   "outputs": [],
   "source": [
    "# Interactive Plots to Visualice Clusters - Use the Control Panel to See the Number of Clusters, pca_init and pca_post Data\n",
    "\n",
    "import plotly.express as px\n",
    "# Control Panel\n",
    "# Select Number of Clusters (2-10)\n",
    "Clusters = 3\n",
    "# Select PCA Component (1-5)\n",
    "PCA_init = 'PCA1'\n",
    "# Select PCA Component (1-5)\n",
    "PCA_post = 'PCA2'\n",
    "\n",
    "# Create a New Data Column, 'Cultivars' and 'Cluster i' where i is the Number of Clusters Defined in Clusters\n",
    "def new_char(cols):\n",
    "    Check = cols[0]\n",
    "    Cluster = cols[1]\n",
    "    \n",
    "    if Check == 'Yes':\n",
    "        return 'Cultivar'\n",
    "    \n",
    "    else:\n",
    "        for i in range(0,Clusters):\n",
    "            if Cluster == i:\n",
    "                return 'Cluster %s'%(i+1)\n",
    "\n",
    "# Set the New Column to Color for Dispaying the Colors Below\n",
    "Color = data_test[['Check','Clusters_%s'%(Clusters)]].apply(new_char, axis=1)\n",
    "# Plot Using plotly.express\n",
    "fig = px.scatter(data_test, x=\"%s\"%(PCA_init), y=\"%s\"%(PCA_post), opacity=0.7, color=Color ,hover_data=['NC_Accession'], template='plotly_white')\n",
    "# Change the Marker Sizes and Attributes\n",
    "fig.update_traces(marker=dict(size=15, line=dict(width=2, color='DarkSlateGrey')), selector=dict(mode='markers'))\n",
    "# Display the Figure\n",
    "fig.show()"
   ]
  },
  {
   "cell_type": "code",
   "execution_count": null,
   "metadata": {},
   "outputs": [],
   "source": [
    "# Output PCA Contributions - Excel or Print\n",
    "pca_contributions = pd.DataFrame(abs(pca.components_), index=['PCA1','PCA2','PCA3','PCA4','PCA5'], columns=['mean_oil', 'raw_mc_ww', \n",
    "        'roast_color', 'paste_color', 'dark_roast',\n",
    "       'raw_bean', 'roast_peanut', 'sweet_aromatic', \n",
    "        'sweet', 'bitter', 'cardboard'])\n",
    "#pca_contributions.to_excel('PCA Variable Contributions.xlsx', index=True)\n",
    "pca_contributions"
   ]
  },
  {
   "cell_type": "code",
   "execution_count": null,
   "metadata": {},
   "outputs": [],
   "source": [
    "# Print Percentage Explained Variance for PCA Components\n",
    "print(\"Explained Variance Per PCA =\", pca.explained_variance_ratio_)\n",
    "print(\"Total Explained Variance for PCAs =\",pca.explained_variance_ratio_.sum())"
   ]
  },
  {
   "cell_type": "code",
   "execution_count": null,
   "metadata": {},
   "outputs": [],
   "source": [
    "# Import Libraries\n",
    "import scipy.stats as stats\n",
    "import statsmodels.api as sm\n",
    "from statsmodels.formula.api import ols\n",
    "from statsmodels.stats.multicomp import pairwise_tukeyhsd\n",
    "from statsmodels.stats.multicomp import MultiComparison"
   ]
  },
  {
   "cell_type": "code",
   "execution_count": null,
   "metadata": {
    "scrolled": true
   },
   "outputs": [],
   "source": [
    "# Add Label Column for Sensory Attributes\n",
    "data_test['Label'] = data_test[['Check','Clusters_%s'%(Clusters)]].apply(new_char, axis=1)\n",
    "\n",
    "# Summary Stats of Traits by Flavor Segment\n",
    "data_test.groupby('Label')[['mean_oil', 'raw_mc_ww', 'roast_color', 'paste_color', 'dark_roast',\n",
    "       'raw_bean', 'roast_peanut', 'sweet_aromatic', 'sweet', 'bitter',\n",
    "       'cardboard']].mean()"
   ]
  },
  {
   "cell_type": "code",
   "execution_count": null,
   "metadata": {
    "scrolled": true
   },
   "outputs": [],
   "source": [
    "# Control Variable - Change to Print Output of Other Sensory Attributes\n",
    "test = 'cardboard'\n",
    "\n",
    "# One-Way ANOVA\n",
    "model = ols('%s ~ C(Label)'%(test), data=data_test).fit()\n",
    "print(sm.stats.anova_lm(model, typ=2))\n",
    "print('--------------------------------------------------------------------')\n",
    "\n",
    "# Normality of Residuals\n",
    "print('Shapiro-Wilks Normality',stats.shapiro(model.resid))\n",
    "print('--------------------------------------------------------------------')\n",
    "\n",
    "# Homoscedasticity of Variances - Three Clusters\n",
    "print(stats.levene(data_test['%s'%(test)][data_test['Label'] == 'Cluster 1'],\n",
    "                   data_test['%s'%(test)][data_test['Label'] == 'Cluster 2'],\n",
    "                   data_test['%s'%(test)][data_test['Label'] == 'Cluster 3'],\n",
    "                   data_test['%s'%(test)][data_test['Label'] == 'Cultivar']))\n",
    "print('--------------------------------------------------------------------')\n",
    "\n",
    "# Post-Hoc Comparisons\n",
    "mc = MultiComparison(data_test['%s'%(test)], \n",
    "                     data_test['Label'])\n",
    "mc_results = mc.tukeyhsd()\n",
    "print(mc_results)"
   ]
  },
  {
   "cell_type": "code",
   "execution_count": null,
   "metadata": {},
   "outputs": [],
   "source": [
    "# Pull Data Columns for Merging Color Groups to Flavor Segments\n",
    "c_group_hi = data[['GIN','NC_Accession','color_groups']][data['hi-rep'] == 'x']\n",
    "c_group_pref = data[['GIN','NC_Accession','color_groups']][data['best_color'] == 'x']\n",
    "# Merge Dataframes Together to Capture Percentages of Each Flavor Segment\n",
    "c_group_merge = pd.merge(c_group_hi, c_group_pref, how='left', on=['GIN','NC_Accession'], suffixes=['_hi_rep','_best_color'])\n",
    "c_group_merge.head(15)"
   ]
  },
  {
   "cell_type": "code",
   "execution_count": null,
   "metadata": {
    "scrolled": false
   },
   "outputs": [],
   "source": [
    "# Pull Data Columns for Merging Color Groups to Flavor Segments\n",
    "c_group_hi = data[['GIN','NC_Accession','color_groups']][data['hi-rep'] == 'x']\n",
    "c_group_pref = data[['GIN','NC_Accession','color_groups']][data['best_color'] == 'x']\n",
    "# Merge Dataframes Together to Capture Percentages of Each Flavor Segment\n",
    "c_group_merge = pd.merge(c_group_hi, c_group_pref, how='left', on=['GIN','NC_Accession'], suffixes=['_hi_rep','_best_color'])\n",
    "\n",
    "clus_color = pd.merge(c_group_merge, data_test, how='left', on='GIN')\n",
    "\n",
    "# Print Percentages of Each Flavor Segment\n",
    "for i in clus_color['Label'].unique():\n",
    "    print(\"Color Group Percentages for\",i)\n",
    "    print(clus_color['color_groups_best_color'][clus_color['Label'] == '%s'%(i)].value_counts(normalize=True))"
   ]
  },
  {
   "cell_type": "code",
   "execution_count": null,
   "metadata": {},
   "outputs": [],
   "source": [
    "del clus_color['NC_Accession_y']\n",
    "clus_color.rename(columns={'NC_Accession_x':'NC_Accession','color_groups_hi_rep':'hi_rep','color_groups_best_color':'best_color'}, inplace=True)"
   ]
  },
  {
   "cell_type": "code",
   "execution_count": null,
   "metadata": {},
   "outputs": [],
   "source": [
    "Flavor_Selections = clus_color[['GIN', 'NC_Accession', 'hi_rep', 'best_color', 'mean_oil', 'raw_mc_ww',\n",
    "       'roast_color', 'paste_color', 'dark_roast', 'raw_bean', 'roast_peanut',\n",
    "       'sweet_aromatic', 'sweet', 'bitter', 'cardboard','Label']][(clus_color['Label'] != 'Cultivar')]\n",
    "Flavor_Selections.to_csv('Flavor Selection Segment.csv', index=False)"
   ]
  }
 ],
 "metadata": {
  "kernelspec": {
   "display_name": "Python 3",
   "language": "python",
   "name": "python3"
  },
  "language_info": {
   "codemirror_mode": {
    "name": "ipython",
    "version": 3
   },
   "file_extension": ".py",
   "mimetype": "text/x-python",
   "name": "python",
   "nbconvert_exporter": "python",
   "pygments_lexer": "ipython3",
   "version": "3.7.3"
  }
 },
 "nbformat": 4,
 "nbformat_minor": 2
}
